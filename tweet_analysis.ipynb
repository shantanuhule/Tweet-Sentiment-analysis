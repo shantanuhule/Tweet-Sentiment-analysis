{
  "nbformat": 4,
  "nbformat_minor": 0,
  "metadata": {
    "colab": {
      "name": "tweet_analysis.ipynb",
      "provenance": [],
      "collapsed_sections": []
    },
    "kernelspec": {
      "name": "python3",
      "display_name": "Python 3"
    },
    "language_info": {
      "name": "python"
    },
    "accelerator": "GPU"
  },
  "cells": [
    {
      "cell_type": "code",
      "metadata": {
        "id": "WkXGhmqv_6Fb"
      },
      "source": [
        "#importing packages \n",
        "import numpy as np\n",
        "import pandas as pd\n",
        "import nltk \n",
        "from nltk.corpus import stopwords\n",
        "from nltk.stem import PorterStemmer\n",
        "from nltk.tokenize import TweetTokenizer\n",
        "import string \n",
        "import re"
      ],
      "execution_count": null,
      "outputs": []
    },
    {
      "cell_type": "code",
      "metadata": {
        "colab": {
          "base_uri": "https://localhost:8080/"
        },
        "id": "iCwfuLOS97gm",
        "outputId": "3cf48448-beba-4d91-85fa-d73c9aecc589"
      },
      "source": [
        "from google.colab import drive\n",
        "drive.mount('/content/drive')"
      ],
      "execution_count": null,
      "outputs": [
        {
          "output_type": "stream",
          "text": [
            "Drive already mounted at /content/drive; to attempt to forcibly remount, call drive.mount(\"/content/drive\", force_remount=True).\n"
          ],
          "name": "stdout"
        }
      ]
    },
    {
      "cell_type": "code",
      "metadata": {
        "colab": {
          "base_uri": "https://localhost:8080/"
        },
        "id": "lWCaZ_E8B_Xr",
        "outputId": "f02b266b-acb1-4e33-875d-371e251d8db5"
      },
      "source": [
        "#downloading stopwords\n",
        "import nltk\n",
        "nltk.download('stopwords')"
      ],
      "execution_count": null,
      "outputs": [
        {
          "output_type": "stream",
          "text": [
            "[nltk_data] Downloading package stopwords to /root/nltk_data...\n",
            "[nltk_data]   Package stopwords is already up-to-date!\n"
          ],
          "name": "stdout"
        },
        {
          "output_type": "execute_result",
          "data": {
            "text/plain": [
              "True"
            ]
          },
          "metadata": {
            "tags": []
          },
          "execution_count": 31
        }
      ]
    },
    {
      "cell_type": "code",
      "metadata": {
        "id": "4SWszHswBaAg"
      },
      "source": [
        "#loading dataset\n",
        "train_data=pd.read_csv('/content/drive/MyDrive/Colab Notebooks/tweet sentiment analysis/train.csv')\n",
        "test_data=pd.read_csv('/content/drive/MyDrive/Colab Notebooks/tweet sentiment analysis/test.csv')"
      ],
      "execution_count": null,
      "outputs": []
    },
    {
      "cell_type": "code",
      "metadata": {
        "colab": {
          "base_uri": "https://localhost:8080/",
          "height": 419
        },
        "id": "GPysiCP0BmHN",
        "outputId": "79c3c551-1cce-425d-b1f8-da7655a1f74e"
      },
      "source": [
        "'''given a training sample of tweets and labels, where label '1' denotes the tweet is racist/sexist \n",
        "   and label '0' denotes the tweet is not racist/sexist,'''\n",
        "\n",
        "train_data"
      ],
      "execution_count": null,
      "outputs": [
        {
          "output_type": "execute_result",
          "data": {
            "text/html": [
              "<div>\n",
              "<style scoped>\n",
              "    .dataframe tbody tr th:only-of-type {\n",
              "        vertical-align: middle;\n",
              "    }\n",
              "\n",
              "    .dataframe tbody tr th {\n",
              "        vertical-align: top;\n",
              "    }\n",
              "\n",
              "    .dataframe thead th {\n",
              "        text-align: right;\n",
              "    }\n",
              "</style>\n",
              "<table border=\"1\" class=\"dataframe\">\n",
              "  <thead>\n",
              "    <tr style=\"text-align: right;\">\n",
              "      <th></th>\n",
              "      <th>id</th>\n",
              "      <th>label</th>\n",
              "      <th>tweet</th>\n",
              "    </tr>\n",
              "  </thead>\n",
              "  <tbody>\n",
              "    <tr>\n",
              "      <th>0</th>\n",
              "      <td>1</td>\n",
              "      <td>0</td>\n",
              "      <td>@user when a father is dysfunctional and is s...</td>\n",
              "    </tr>\n",
              "    <tr>\n",
              "      <th>1</th>\n",
              "      <td>2</td>\n",
              "      <td>0</td>\n",
              "      <td>@user @user thanks for #lyft credit i can't us...</td>\n",
              "    </tr>\n",
              "    <tr>\n",
              "      <th>2</th>\n",
              "      <td>3</td>\n",
              "      <td>0</td>\n",
              "      <td>bihday your majesty</td>\n",
              "    </tr>\n",
              "    <tr>\n",
              "      <th>3</th>\n",
              "      <td>4</td>\n",
              "      <td>0</td>\n",
              "      <td>#model   i love u take with u all the time in ...</td>\n",
              "    </tr>\n",
              "    <tr>\n",
              "      <th>4</th>\n",
              "      <td>5</td>\n",
              "      <td>0</td>\n",
              "      <td>factsguide: society now    #motivation</td>\n",
              "    </tr>\n",
              "    <tr>\n",
              "      <th>...</th>\n",
              "      <td>...</td>\n",
              "      <td>...</td>\n",
              "      <td>...</td>\n",
              "    </tr>\n",
              "    <tr>\n",
              "      <th>31957</th>\n",
              "      <td>31958</td>\n",
              "      <td>0</td>\n",
              "      <td>ate @user isz that youuu?ðððððð...</td>\n",
              "    </tr>\n",
              "    <tr>\n",
              "      <th>31958</th>\n",
              "      <td>31959</td>\n",
              "      <td>0</td>\n",
              "      <td>to see nina turner on the airwaves trying to...</td>\n",
              "    </tr>\n",
              "    <tr>\n",
              "      <th>31959</th>\n",
              "      <td>31960</td>\n",
              "      <td>0</td>\n",
              "      <td>listening to sad songs on a monday morning otw...</td>\n",
              "    </tr>\n",
              "    <tr>\n",
              "      <th>31960</th>\n",
              "      <td>31961</td>\n",
              "      <td>1</td>\n",
              "      <td>@user #sikh #temple vandalised in in #calgary,...</td>\n",
              "    </tr>\n",
              "    <tr>\n",
              "      <th>31961</th>\n",
              "      <td>31962</td>\n",
              "      <td>0</td>\n",
              "      <td>thank you @user for you follow</td>\n",
              "    </tr>\n",
              "  </tbody>\n",
              "</table>\n",
              "<p>31962 rows × 3 columns</p>\n",
              "</div>"
            ],
            "text/plain": [
              "          id  label                                              tweet\n",
              "0          1      0   @user when a father is dysfunctional and is s...\n",
              "1          2      0  @user @user thanks for #lyft credit i can't us...\n",
              "2          3      0                                bihday your majesty\n",
              "3          4      0  #model   i love u take with u all the time in ...\n",
              "4          5      0             factsguide: society now    #motivation\n",
              "...      ...    ...                                                ...\n",
              "31957  31958      0  ate @user isz that youuu?ðððððð...\n",
              "31958  31959      0    to see nina turner on the airwaves trying to...\n",
              "31959  31960      0  listening to sad songs on a monday morning otw...\n",
              "31960  31961      1  @user #sikh #temple vandalised in in #calgary,...\n",
              "31961  31962      0                   thank you @user for you follow  \n",
              "\n",
              "[31962 rows x 3 columns]"
            ]
          },
          "metadata": {
            "tags": []
          },
          "execution_count": 33
        }
      ]
    },
    {
      "cell_type": "code",
      "metadata": {
        "id": "Ga4MLgRABqJg"
      },
      "source": [
        "#process tweets\n",
        "def process_tweet(tweet):\n",
        "    stemmer=PorterStemmer()\n",
        "    stopwords_english = stopwords.words('english') #stopwords english\n",
        "    \n",
        "    #removing all hashtags ,hyperlinks\n",
        "    tweet = re.sub(r'\\$\\w*', '', tweet)\n",
        "    tweet = re.sub(r'^RT[\\s]+', '', tweet)\n",
        "    tweet = re.sub(r'https?:\\/\\/.*[\\r\\n]*', '', tweet)\n",
        "    tweet = re.sub(r'#', '', tweet)\n",
        "    \n",
        "    tokenizer=TweetTokenizer(preserve_case=False, strip_handles=True,reduce_len=True)\n",
        "    tweet_tokens=tokenizer.tokenize(tweet) #tokenize\n",
        "    \n",
        "    tweets_clean=[]\n",
        "    \n",
        "    #removing stopwords, removing punctuation and then stemming the word\n",
        "    for word in tweet_tokens:\n",
        "        if (word not in stopwords_english and word not in string.punctuation):   \n",
        "            stem_word=stemmer.stem(word)\n",
        "            tweets_clean.append(stem_word)\n",
        "            \n",
        "    return tweets_clean"
      ],
      "execution_count": null,
      "outputs": []
    },
    {
      "cell_type": "code",
      "metadata": {
        "id": "1HX9hScnBvjE"
      },
      "source": [
        "# building frequences for tweets \n",
        "def build_freq(tweets,ys):\n",
        "    yslist=np.squeeze(ys).tolist()\n",
        "    freqs={}\n",
        "    for y,tweet in zip(yslist,tweets):\n",
        "        for word in process_tweet(tweet):\n",
        "            pair=(word,y)\n",
        "            if pair in freqs:\n",
        "                freqs[pair]+=1\n",
        "            else:\n",
        "                freqs[pair]=1\n",
        "    return freqs\n",
        "    "
      ],
      "execution_count": null,
      "outputs": []
    },
    {
      "cell_type": "code",
      "metadata": {
        "id": "6GQyN7-oBywa"
      },
      "source": [
        "train_x=train_data['tweet'].tolist()\n",
        "train_y=train_data['label'].tolist()"
      ],
      "execution_count": null,
      "outputs": []
    },
    {
      "cell_type": "code",
      "metadata": {
        "id": "UZoqNeCwBz8E"
      },
      "source": [
        "freqs=build_freq(train_x,train_y)"
      ],
      "execution_count": null,
      "outputs": []
    },
    {
      "cell_type": "code",
      "metadata": {
        "id": "Dwp9BYSpCMEE"
      },
      "source": [
        "# extract features from processed tweets \n",
        "def extract_features(tweet,freqs):\n",
        "    word_l=process_tweet(tweet)\n",
        "    x=np.zeros((1,3))\n",
        "    \n",
        "    #bais term =1\n",
        "    x[0,0]=1\n",
        "    \n",
        "    \n",
        "    for word in word_l:\n",
        "        x[0,1]+=freqs.get((word,0.0),0) #non racist\n",
        "        x[0,2]+=freqs.get((word,1.0),0) #racist\n",
        "        \n",
        "    return x\n",
        "#  [1,pos_freq,neg_freq]"
      ],
      "execution_count": null,
      "outputs": []
    },
    {
      "cell_type": "code",
      "metadata": {
        "id": "1vcmKiHuCO9c"
      },
      "source": [
        "#Training model\n",
        "X = np.zeros((len(train_x), 3))\n",
        "\n",
        "for i in range(len(train_x)):\n",
        "    X[i, :]= extract_features(train_x[i], freqs)\n",
        "y=np.array(train_y)\n"
      ],
      "execution_count": null,
      "outputs": []
    },
    {
      "cell_type": "code",
      "metadata": {
        "id": "qk7JgQCo6hgz"
      },
      "source": [
        "#accuracy\n",
        "from sklearn.metrics import accuracy_score\n",
        "def acc_score(y_true,y_pred):\n",
        "  \n",
        "  acc_sc =accuracy_score(y_true,y_pred)\n",
        "  return acc_sc"
      ],
      "execution_count": null,
      "outputs": []
    },
    {
      "cell_type": "code",
      "metadata": {
        "colab": {
          "base_uri": "https://localhost:8080/"
        },
        "id": "L1KsF8w9FaJw",
        "outputId": "4780b1a1-71b0-406d-c09b-2361cc8e8990"
      },
      "source": [
        "#logistic regression classifier model\n",
        "from sklearn.model_selection import train_test_split\n",
        "X_train,X_test,y_train,y_test = train_test_split(X, y, test_size = 0.2, random_state = 0)\n",
        "\n",
        "from sklearn.linear_model import LogisticRegression\n",
        "lr_model = LogisticRegression(random_state = 0)\n",
        "lr_model.fit(X_train, y_train)\n",
        "\n",
        "y_pred=lr_model.predict(X_test)\n",
        "lr_acc=acc_score(y_test,y_pred)\n",
        "print(\"Lr accuracy:\",lr_acc)"
      ],
      "execution_count": null,
      "outputs": [
        {
          "output_type": "stream",
          "text": [
            "Lr accuracy: 0.9371187236039418\n"
          ],
          "name": "stdout"
        }
      ]
    },
    {
      "cell_type": "code",
      "metadata": {
        "id": "XcDffVTiQ3Ti",
        "colab": {
          "base_uri": "https://localhost:8080/"
        },
        "outputId": "50dd2de1-3f50-4952-e284-d47ae6e92e4f"
      },
      "source": [
        "#support vector machine model\n",
        "from sklearn.svm import SVC\n",
        "svm_model = SVC(kernel = 'sigmoid', random_state = 0)\n",
        "svm_model.fit(X_train, y_train)\n",
        "y_pred=svm_model.predict(X_test)\n",
        "\n",
        "svm_acc=acc_score(y_test,y_pred)\n",
        "print(\"SVM accuracy:\",svm_acc)"
      ],
      "execution_count": null,
      "outputs": [
        {
          "output_type": "stream",
          "text": [
            "SVM accuracy: 0.8831534490849366\n"
          ],
          "name": "stdout"
        }
      ]
    },
    {
      "cell_type": "code",
      "metadata": {
        "colab": {
          "base_uri": "https://localhost:8080/"
        },
        "id": "IYfgCihDIrgf",
        "outputId": "7c514498-c0ed-46b6-b421-f9cec59b87ca"
      },
      "source": [
        "#KNN classifier model\n",
        "from sklearn.neighbors import KNeighborsClassifier\n",
        "knn_model = KNeighborsClassifier(n_neighbors = 5, metric = 'minkowski', p = 2)\n",
        "knn_model.fit(X_train, y_train)\n",
        "y_pred=knn_model.predict(X_test)\n",
        "\n",
        "knn_acc=acc_score(y_test,y_pred)\n",
        "print(\"KNN accuracy:\",knn_acc)"
      ],
      "execution_count": null,
      "outputs": [
        {
          "output_type": "stream",
          "text": [
            "KNN accuracy: 0.9493195682778038\n"
          ],
          "name": "stdout"
        }
      ]
    },
    {
      "cell_type": "code",
      "metadata": {
        "colab": {
          "base_uri": "https://localhost:8080/"
        },
        "id": "0depyn_76o3e",
        "outputId": "fe9691b7-28e8-4111-df31-dc06b268a7b5"
      },
      "source": [
        "#my_tweet=train_x[31960]\n",
        "#my_tweet =  '@user when a father is dysfunctional and is so selfish he drags his kids into his dysfunction.   #run'       #non racist\n",
        "my_tweet =  '@user #sikh #temple vandalised in in #calgary, #wso condemns  act'        #racist\n",
        "x=extract_features(my_tweet,freqs)\n",
        "x = np.squeeze(np.asarray(x))\n",
        "prediction=svm_model.predict([x])\n",
        "if(prediction==1):\n",
        "  print('tweet predicted as :racist tweet')\n",
        "else:\n",
        "  print('tweet predicted as : non racist')"
      ],
      "execution_count": null,
      "outputs": [
        {
          "output_type": "stream",
          "text": [
            "tweet predicted as :racist tweet\n"
          ],
          "name": "stdout"
        }
      ]
    },
    {
      "cell_type": "markdown",
      "metadata": {
        "id": "iNCBJv8aRQRL"
      },
      "source": [
        "lstm rnn"
      ]
    },
    {
      "cell_type": "code",
      "metadata": {
        "id": "QN__RDGsRVlW"
      },
      "source": [
        "#importing packages\n",
        "import numpy as np\n",
        "import pandas as pd\n",
        "import  string \n",
        "import re\n",
        "from keras.preprocessing.text import Tokenizer\n",
        "from keras.preprocessing.sequence import pad_sequences\n",
        "from keras.models import Sequential\n",
        "from keras.layers import Dense, Embedding, LSTM\n"
      ],
      "execution_count": null,
      "outputs": []
    },
    {
      "cell_type": "code",
      "metadata": {
        "colab": {
          "base_uri": "https://localhost:8080/",
          "height": 204
        },
        "id": "GqyOgtugRXeL",
        "outputId": "82e465f1-0731-4475-e63e-c15b2aece6d3"
      },
      "source": [
        "#loading dataset\n",
        "df=pd.read_csv('/content/drive/MyDrive/Colab Notebooks/tweet sentiment analysis/train.csv')\n",
        "df.head()"
      ],
      "execution_count": null,
      "outputs": [
        {
          "output_type": "execute_result",
          "data": {
            "text/html": [
              "<div>\n",
              "<style scoped>\n",
              "    .dataframe tbody tr th:only-of-type {\n",
              "        vertical-align: middle;\n",
              "    }\n",
              "\n",
              "    .dataframe tbody tr th {\n",
              "        vertical-align: top;\n",
              "    }\n",
              "\n",
              "    .dataframe thead th {\n",
              "        text-align: right;\n",
              "    }\n",
              "</style>\n",
              "<table border=\"1\" class=\"dataframe\">\n",
              "  <thead>\n",
              "    <tr style=\"text-align: right;\">\n",
              "      <th></th>\n",
              "      <th>id</th>\n",
              "      <th>label</th>\n",
              "      <th>tweet</th>\n",
              "    </tr>\n",
              "  </thead>\n",
              "  <tbody>\n",
              "    <tr>\n",
              "      <th>0</th>\n",
              "      <td>1</td>\n",
              "      <td>0</td>\n",
              "      <td>@user when a father is dysfunctional and is s...</td>\n",
              "    </tr>\n",
              "    <tr>\n",
              "      <th>1</th>\n",
              "      <td>2</td>\n",
              "      <td>0</td>\n",
              "      <td>@user @user thanks for #lyft credit i can't us...</td>\n",
              "    </tr>\n",
              "    <tr>\n",
              "      <th>2</th>\n",
              "      <td>3</td>\n",
              "      <td>0</td>\n",
              "      <td>bihday your majesty</td>\n",
              "    </tr>\n",
              "    <tr>\n",
              "      <th>3</th>\n",
              "      <td>4</td>\n",
              "      <td>0</td>\n",
              "      <td>#model   i love u take with u all the time in ...</td>\n",
              "    </tr>\n",
              "    <tr>\n",
              "      <th>4</th>\n",
              "      <td>5</td>\n",
              "      <td>0</td>\n",
              "      <td>factsguide: society now    #motivation</td>\n",
              "    </tr>\n",
              "  </tbody>\n",
              "</table>\n",
              "</div>"
            ],
            "text/plain": [
              "   id  label                                              tweet\n",
              "0   1      0   @user when a father is dysfunctional and is s...\n",
              "1   2      0  @user @user thanks for #lyft credit i can't us...\n",
              "2   3      0                                bihday your majesty\n",
              "3   4      0  #model   i love u take with u all the time in ...\n",
              "4   5      0             factsguide: society now    #motivation"
            ]
          },
          "metadata": {
            "tags": []
          },
          "execution_count": 20
        }
      ]
    },
    {
      "cell_type": "code",
      "metadata": {
        "id": "AhreEPLt2RL6"
      },
      "source": [
        "#creating vocablory \n",
        "vocab=[]\n",
        "for tweet in df.tweet:\n",
        "  for word in process_tweet(tweet):\n",
        "    if word not in vocab:\n",
        "      vocab.append(word)\n",
        "\n",
        "  "
      ],
      "execution_count": null,
      "outputs": []
    },
    {
      "cell_type": "code",
      "metadata": {
        "id": "e2f9ebDt3FwH",
        "colab": {
          "base_uri": "https://localhost:8080/"
        },
        "outputId": "1e2cf3fe-d9af-49ae-e689-3a60c6099009"
      },
      "source": [
        "print(\"length of vocab:\",len(vocab))"
      ],
      "execution_count": null,
      "outputs": [
        {
          "output_type": "stream",
          "text": [
            "length of vocab: 36805\n"
          ],
          "name": "stdout"
        }
      ]
    },
    {
      "cell_type": "code",
      "metadata": {
        "id": "77AmgLje3z-F"
      },
      "source": [
        "#process tweet\n",
        "processed_tweet=[]\n",
        "for t in df.tweet:\n",
        "  p_t=process_tweet(t)\n",
        "  processed_tweet.append(p_t)"
      ],
      "execution_count": null,
      "outputs": []
    },
    {
      "cell_type": "code",
      "metadata": {
        "colab": {
          "base_uri": "https://localhost:8080/"
        },
        "id": "6kq_UJj65vtI",
        "outputId": "ea0a1859-4039-427a-e268-09261845fb9e"
      },
      "source": [
        "processed_tweet[0]"
      ],
      "execution_count": null,
      "outputs": [
        {
          "output_type": "execute_result",
          "data": {
            "text/plain": [
              "['father', 'dysfunct', 'selfish', 'drag', 'kid', 'dysfunct', 'run']"
            ]
          },
          "metadata": {
            "tags": []
          },
          "execution_count": 24
        }
      ]
    },
    {
      "cell_type": "code",
      "metadata": {
        "id": "hUFvWCx554YV",
        "colab": {
          "base_uri": "https://localhost:8080/",
          "height": 204
        },
        "outputId": "a3d4515b-6d67-4483-b2e1-f540d43aa377"
      },
      "source": [
        "df['p_tweet']=processed_tweet\n",
        "df.head()"
      ],
      "execution_count": null,
      "outputs": [
        {
          "output_type": "execute_result",
          "data": {
            "text/html": [
              "<div>\n",
              "<style scoped>\n",
              "    .dataframe tbody tr th:only-of-type {\n",
              "        vertical-align: middle;\n",
              "    }\n",
              "\n",
              "    .dataframe tbody tr th {\n",
              "        vertical-align: top;\n",
              "    }\n",
              "\n",
              "    .dataframe thead th {\n",
              "        text-align: right;\n",
              "    }\n",
              "</style>\n",
              "<table border=\"1\" class=\"dataframe\">\n",
              "  <thead>\n",
              "    <tr style=\"text-align: right;\">\n",
              "      <th></th>\n",
              "      <th>id</th>\n",
              "      <th>label</th>\n",
              "      <th>tweet</th>\n",
              "      <th>p_tweet</th>\n",
              "    </tr>\n",
              "  </thead>\n",
              "  <tbody>\n",
              "    <tr>\n",
              "      <th>0</th>\n",
              "      <td>1</td>\n",
              "      <td>0</td>\n",
              "      <td>@user when a father is dysfunctional and is s...</td>\n",
              "      <td>[father, dysfunct, selfish, drag, kid, dysfunc...</td>\n",
              "    </tr>\n",
              "    <tr>\n",
              "      <th>1</th>\n",
              "      <td>2</td>\n",
              "      <td>0</td>\n",
              "      <td>@user @user thanks for #lyft credit i can't us...</td>\n",
              "      <td>[thank, lyft, credit, can't, use, caus, offer,...</td>\n",
              "    </tr>\n",
              "    <tr>\n",
              "      <th>2</th>\n",
              "      <td>3</td>\n",
              "      <td>0</td>\n",
              "      <td>bihday your majesty</td>\n",
              "      <td>[bihday, majesti]</td>\n",
              "    </tr>\n",
              "    <tr>\n",
              "      <th>3</th>\n",
              "      <td>4</td>\n",
              "      <td>0</td>\n",
              "      <td>#model   i love u take with u all the time in ...</td>\n",
              "      <td>[model, love, u, take, u, time, urð, , , ±, ...</td>\n",
              "    </tr>\n",
              "    <tr>\n",
              "      <th>4</th>\n",
              "      <td>5</td>\n",
              "      <td>0</td>\n",
              "      <td>factsguide: society now    #motivation</td>\n",
              "      <td>[factsguid, societi, motiv]</td>\n",
              "    </tr>\n",
              "  </tbody>\n",
              "</table>\n",
              "</div>"
            ],
            "text/plain": [
              "   id  ...                                            p_tweet\n",
              "0   1  ...  [father, dysfunct, selfish, drag, kid, dysfunc...\n",
              "1   2  ...  [thank, lyft, credit, can't, use, caus, offer,...\n",
              "2   3  ...                                  [bihday, majesti]\n",
              "3   4  ...  [model, love, u, take, u, time, urð, , , ±, ...\n",
              "4   5  ...                        [factsguid, societi, motiv]\n",
              "\n",
              "[5 rows x 4 columns]"
            ]
          },
          "metadata": {
            "tags": []
          },
          "execution_count": 25
        }
      ]
    },
    {
      "cell_type": "code",
      "metadata": {
        "id": "jjrP7kMCNnqX"
      },
      "source": [
        "#transform label \n",
        "label_transform=[]\n",
        "for i in df.label:\n",
        "  if i == 0:\n",
        "    label_transform.append([1,0])\n",
        "  else:\n",
        "    label_transform.append([0,1])\n"
      ],
      "execution_count": null,
      "outputs": []
    },
    {
      "cell_type": "code",
      "metadata": {
        "id": "JwrLV5UGNpTH",
        "colab": {
          "base_uri": "https://localhost:8080/",
          "height": 204
        },
        "outputId": "f22a3a03-63f1-4c68-bfc7-3e35227f685e"
      },
      "source": [
        "df['label_tran']=label_transform\n",
        "df.head()"
      ],
      "execution_count": null,
      "outputs": [
        {
          "output_type": "execute_result",
          "data": {
            "text/html": [
              "<div>\n",
              "<style scoped>\n",
              "    .dataframe tbody tr th:only-of-type {\n",
              "        vertical-align: middle;\n",
              "    }\n",
              "\n",
              "    .dataframe tbody tr th {\n",
              "        vertical-align: top;\n",
              "    }\n",
              "\n",
              "    .dataframe thead th {\n",
              "        text-align: right;\n",
              "    }\n",
              "</style>\n",
              "<table border=\"1\" class=\"dataframe\">\n",
              "  <thead>\n",
              "    <tr style=\"text-align: right;\">\n",
              "      <th></th>\n",
              "      <th>id</th>\n",
              "      <th>label</th>\n",
              "      <th>tweet</th>\n",
              "      <th>p_tweet</th>\n",
              "      <th>label_tran</th>\n",
              "    </tr>\n",
              "  </thead>\n",
              "  <tbody>\n",
              "    <tr>\n",
              "      <th>0</th>\n",
              "      <td>1</td>\n",
              "      <td>0</td>\n",
              "      <td>@user when a father is dysfunctional and is s...</td>\n",
              "      <td>[father, dysfunct, selfish, drag, kid, dysfunc...</td>\n",
              "      <td>[1, 0]</td>\n",
              "    </tr>\n",
              "    <tr>\n",
              "      <th>1</th>\n",
              "      <td>2</td>\n",
              "      <td>0</td>\n",
              "      <td>@user @user thanks for #lyft credit i can't us...</td>\n",
              "      <td>[thank, lyft, credit, can't, use, caus, offer,...</td>\n",
              "      <td>[1, 0]</td>\n",
              "    </tr>\n",
              "    <tr>\n",
              "      <th>2</th>\n",
              "      <td>3</td>\n",
              "      <td>0</td>\n",
              "      <td>bihday your majesty</td>\n",
              "      <td>[bihday, majesti]</td>\n",
              "      <td>[1, 0]</td>\n",
              "    </tr>\n",
              "    <tr>\n",
              "      <th>3</th>\n",
              "      <td>4</td>\n",
              "      <td>0</td>\n",
              "      <td>#model   i love u take with u all the time in ...</td>\n",
              "      <td>[model, love, u, take, u, time, urð, , , ±, ...</td>\n",
              "      <td>[1, 0]</td>\n",
              "    </tr>\n",
              "    <tr>\n",
              "      <th>4</th>\n",
              "      <td>5</td>\n",
              "      <td>0</td>\n",
              "      <td>factsguide: society now    #motivation</td>\n",
              "      <td>[factsguid, societi, motiv]</td>\n",
              "      <td>[1, 0]</td>\n",
              "    </tr>\n",
              "  </tbody>\n",
              "</table>\n",
              "</div>"
            ],
            "text/plain": [
              "   id  label  ...                                            p_tweet label_tran\n",
              "0   1      0  ...  [father, dysfunct, selfish, drag, kid, dysfunc...     [1, 0]\n",
              "1   2      0  ...  [thank, lyft, credit, can't, use, caus, offer,...     [1, 0]\n",
              "2   3      0  ...                                  [bihday, majesti]     [1, 0]\n",
              "3   4      0  ...  [model, love, u, take, u, time, urð, , , ±, ...     [1, 0]\n",
              "4   5      0  ...                        [factsguid, societi, motiv]     [1, 0]\n",
              "\n",
              "[5 rows x 5 columns]"
            ]
          },
          "metadata": {
            "tags": []
          },
          "execution_count": 27
        }
      ]
    },
    {
      "cell_type": "code",
      "metadata": {
        "id": "H2JaRgF26FuE"
      },
      "source": [
        "tokenizer = Tokenizer(num_words=36805, split=' ') \n",
        "tokenizer.fit_on_texts(df['p_tweet'].values)\n",
        "X = tokenizer.texts_to_sequences(df['p_tweet'])\n",
        "X=pad_sequences(X)\n",
        "y=df.label_tran.tolist()\n",
        "y=np.array(y)"
      ],
      "execution_count": null,
      "outputs": []
    },
    {
      "cell_type": "code",
      "metadata": {
        "colab": {
          "base_uri": "https://localhost:8080/"
        },
        "id": "_jsWW6ZX_lti",
        "outputId": "8f0e0779-c24e-4806-efb8-acbc1b18f1c4"
      },
      "source": [
        "embeding_dim=128\n",
        "lstm_out=196\n",
        "model = Sequential()\n",
        "model.add(Embedding(input_dim=len(vocab),output_dim=embeding_dim,input_length = 28))\n",
        "model.add(LSTM(lstm_out, dropout=0.2, recurrent_dropout=0.2))\n",
        "model.add(Dense(2,activation='softmax'))\n"
      ],
      "execution_count": null,
      "outputs": [
        {
          "output_type": "stream",
          "text": [
            "WARNING:tensorflow:Layer lstm will not use cuDNN kernels since it doesn't meet the criteria. It will use a generic GPU kernel as fallback when running on GPU.\n"
          ],
          "name": "stdout"
        }
      ]
    },
    {
      "cell_type": "code",
      "metadata": {
        "id": "LHD4TkqdHSrK"
      },
      "source": [
        "model.compile(loss = 'binary_crossentropy', optimizer='adam',metrics = ['accuracy'])"
      ],
      "execution_count": null,
      "outputs": []
    },
    {
      "cell_type": "code",
      "metadata": {
        "id": "7kf59rpdH-XA"
      },
      "source": [
        "from sklearn.model_selection import train_test_split\n",
        "X_train, X_test, y_train, y_test = train_test_split(X,y, test_size = 0.15, random_state = 42)"
      ],
      "execution_count": null,
      "outputs": []
    },
    {
      "cell_type": "code",
      "metadata": {
        "colab": {
          "base_uri": "https://localhost:8080/"
        },
        "id": "JqRBy7zaIQu1",
        "outputId": "3d133a2a-b53b-44ba-f260-192a32450756"
      },
      "source": [
        "model.fit(X_train, y_train,validation_data = (X_test,y_test),epochs = 1, batch_size=32)"
      ],
      "execution_count": null,
      "outputs": [
        {
          "output_type": "stream",
          "text": [
            "WARNING:tensorflow:Model was constructed with shape (None, 28) for input KerasTensor(type_spec=TensorSpec(shape=(None, 28), dtype=tf.float32, name='embedding_7_input'), name='embedding_7_input', description=\"created by layer 'embedding_7_input'\"), but it was called on an input with incompatible shape (None, 222).\n",
            "WARNING:tensorflow:Model was constructed with shape (None, 28) for input KerasTensor(type_spec=TensorSpec(shape=(None, 28), dtype=tf.float32, name='embedding_7_input'), name='embedding_7_input', description=\"created by layer 'embedding_7_input'\"), but it was called on an input with incompatible shape (None, 222).\n",
            "849/849 [==============================] - ETA: 0s - loss: 0.2299 - accuracy: 0.9327WARNING:tensorflow:Model was constructed with shape (None, 28) for input KerasTensor(type_spec=TensorSpec(shape=(None, 28), dtype=tf.float32, name='embedding_7_input'), name='embedding_7_input', description=\"created by layer 'embedding_7_input'\"), but it was called on an input with incompatible shape (None, 222).\n",
            "849/849 [==============================] - 683s 801ms/step - loss: 0.2298 - accuracy: 0.9327 - val_loss: 0.1138 - val_accuracy: 0.9618\n"
          ],
          "name": "stdout"
        },
        {
          "output_type": "execute_result",
          "data": {
            "text/plain": [
              "<keras.callbacks.History at 0x7f39592d9850>"
            ]
          },
          "metadata": {
            "tags": []
          },
          "execution_count": 98
        }
      ]
    },
    {
      "cell_type": "code",
      "metadata": {
        "colab": {
          "base_uri": "https://localhost:8080/"
        },
        "id": "wE4-4u1qNGXJ",
        "outputId": "e79a0db7-7bda-4a2f-d0d7-44ed466bc777"
      },
      "source": [
        "model.evaluate(X_test,y_test)"
      ],
      "execution_count": null,
      "outputs": [
        {
          "output_type": "stream",
          "text": [
            "150/150 [==============================] - 8s 53ms/step - loss: 0.1138 - accuracy: 0.9618\n"
          ],
          "name": "stdout"
        },
        {
          "output_type": "execute_result",
          "data": {
            "text/plain": [
              "[0.11375043541193008, 0.9618352651596069]"
            ]
          },
          "metadata": {
            "tags": []
          },
          "execution_count": 99
        }
      ]
    },
    {
      "cell_type": "code",
      "metadata": {
        "id": "RNkD6J0bUI1K"
      },
      "source": [
        "model.save('/content/drive/MyDrive/Colab Notebooks/tweet sentiment analysis/Tweet_analysis_lstm.h5')"
      ],
      "execution_count": null,
      "outputs": []
    },
    {
      "cell_type": "code",
      "metadata": {
        "id": "0rMeGf6EVJ64"
      },
      "source": [
        "tweet=train_data.tweet[0]\n",
        "p_tweet=process_tweet(tweet)\n",
        "x=tokenizer.texts_to_sequences(p_tweet)\n",
        "x=pad_sequences(x)\n",
        "pred=model.predict(x)"
      ],
      "execution_count": null,
      "outputs": []
    },
    {
      "cell_type": "code",
      "metadata": {
        "colab": {
          "base_uri": "https://localhost:8080/"
        },
        "id": "m_9cQ_wxb7Vy",
        "outputId": "fdb62558-8e5c-4d01-c1b0-1152f01fed11"
      },
      "source": [
        "model.predict_classes(X_test[0:5]) #top five tweets predicted \n"
      ],
      "execution_count": null,
      "outputs": [
        {
          "output_type": "stream",
          "text": [
            "/usr/local/lib/python3.7/dist-packages/keras/engine/sequential.py:450: UserWarning: `model.predict_classes()` is deprecated and will be removed after 2021-01-01. Please use instead:* `np.argmax(model.predict(x), axis=-1)`,   if your model does multi-class classification   (e.g. if it uses a `softmax` last-layer activation).* `(model.predict(x) > 0.5).astype(\"int32\")`,   if your model does binary classification   (e.g. if it uses a `sigmoid` last-layer activation).\n",
            "  warnings.warn('`model.predict_classes()` is deprecated and '\n"
          ],
          "name": "stderr"
        },
        {
          "output_type": "execute_result",
          "data": {
            "text/plain": [
              "array([0, 0, 0, 0, 0])"
            ]
          },
          "metadata": {
            "tags": []
          },
          "execution_count": 118
        }
      ]
    },
    {
      "cell_type": "code",
      "metadata": {
        "id": "G5ISsyPqdY2t",
        "colab": {
          "base_uri": "https://localhost:8080/"
        },
        "outputId": "fedead07-4552-4eb7-ab52-7fbc1546745f"
      },
      "source": [
        "y_test[:5] # true top five tweets in dataset"
      ],
      "execution_count": null,
      "outputs": [
        {
          "output_type": "execute_result",
          "data": {
            "text/plain": [
              "array([0, 0, 0, 0, 0])"
            ]
          },
          "metadata": {
            "tags": []
          },
          "execution_count": 28
        }
      ]
    },
    {
      "cell_type": "code",
      "metadata": {
        "id": "nuO6SUki8_vT"
      },
      "source": [
        ""
      ],
      "execution_count": null,
      "outputs": []
    }
  ]
}